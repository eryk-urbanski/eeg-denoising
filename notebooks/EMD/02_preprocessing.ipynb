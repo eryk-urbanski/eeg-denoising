{
 "cells": [
  {
   "cell_type": "code",
   "execution_count": 13,
   "metadata": {},
   "outputs": [],
   "source": [
    "# 02_preprocessing.ipynb\n",
    "\n",
    "# Author: Eryk Urbański\n",
    "# Date: April 2025\n",
    "# Description: Load raw EEG data, perform filtering, add artificial noise."
   ]
  },
  {
   "cell_type": "markdown",
   "metadata": {},
   "source": [
    "# Import packages"
   ]
  },
  {
   "cell_type": "code",
   "execution_count": 14,
   "metadata": {},
   "outputs": [],
   "source": [
    "import pickle\n",
    "from sklearn.preprocessing import StandardScaler\n",
    "import numpy as np\n",
    "import pandas as pd\n",
    "from mne import make_ad_hoc_cov, set_eeg_reference\n",
    "from mne.simulation import add_noise\n",
    "import scipy.signal as signal_lib"
   ]
  },
  {
   "cell_type": "markdown",
   "metadata": {},
   "source": [
    "# Load datasets"
   ]
  },
  {
   "cell_type": "markdown",
   "metadata": {},
   "source": [
    "### Load EEGBCI data"
   ]
  },
  {
   "cell_type": "code",
   "execution_count": 15,
   "metadata": {},
   "outputs": [],
   "source": [
    "data_path = 'C:/Users/blaze/Desktop/opsi_eeg_denoising/eeg-denoising/data'\n",
    "with open(data_path + \"/eeg_dataset_raw.pkl\", \"rb\") as f:\n",
    "    eeg_datasets_dict = pickle.load(f)\n",
    "    \n",
    "eeg_datasets = eeg_datasets_dict[\"datasets_mne_format\"]\n",
    "\n",
    "noise = 'pink' # ['burst,'pink','gaussian'] ->> NOISE TYPE"
   ]
  },
  {
   "cell_type": "markdown",
   "metadata": {},
   "source": [
    "# Scale Signal"
   ]
  },
  {
   "cell_type": "code",
   "execution_count": 16,
   "metadata": {},
   "outputs": [],
   "source": [
    "scaler = StandardScaler()\n",
    "data, times = eeg_datasets[0][:]\n",
    "data.shape\n",
    "scaled_eeg_data = scaler.fit_transform(data.T).T\n",
    "\n",
    "\n",
    "channel_names = eeg_datasets[0].ch_names\n",
    "eeg_datasets = {\n",
    "    \"channel_names\": channel_names,\n",
    "    \"original_scaled_eeg\": scaled_eeg_data\n",
    "}"
   ]
  },
  {
   "cell_type": "markdown",
   "metadata": {},
   "source": [
    "# Add artificial noise"
   ]
  },
  {
   "cell_type": "code",
   "execution_count": 17,
   "metadata": {},
   "outputs": [],
   "source": [
    "def add_gaussian_noise(signal, noise_std=0.5):\n",
    "    noise = np.random.normal(0, noise_std, size=signal.shape)\n",
    "    return signal + noise\n",
    "\n",
    "def add_emg_bursts(signal, noise_std=0.5, burst_duration=0.1, fs=256):\n",
    "    burst_len = int(burst_duration * fs)\n",
    "    emg_noise = np.zeros_like(signal)\n",
    "\n",
    "    for _ in range(5): \n",
    "        start = np.random.randint(0, len(signal) - burst_len)\n",
    "        burst = np.random.normal(0, noise_std, burst_len)\n",
    "        burst *= np.sin(2 * np.pi * np.random.uniform(20, 60) * np.arange(burst_len) / fs)\n",
    "        emg_noise[start:start+burst_len] += burst\n",
    "\n",
    "    return signal + emg_noise\n",
    "\n",
    "def add_pink_noise(signal, noise_std=0.5):\n",
    "\n",
    "    white = np.random.normal(0, 1, len(signal))\n",
    "    b, a = signal_lib.butter(1, 0.01, btype='low')\n",
    "    pink = signal_lib.lfilter(b, a, white)\n",
    "    pink = pink / np.std(pink) * noise_std\n",
    "    return signal + pink"
   ]
  },
  {
   "cell_type": "code",
   "execution_count": 18,
   "metadata": {},
   "outputs": [],
   "source": [
    "artificial_noise_signals = []\n",
    "\n",
    "for signal in scaled_eeg_data:\n",
    "    match noise:\n",
    "        case 'burst':\n",
    "            noisy_signal_scaled = add_emg_bursts(signal)\n",
    "        case 'gaussian':\n",
    "            noisy_signal_scaled = add_gaussian_noise(signal, noise_std=0.5)\n",
    "        case 'pink':\n",
    "            noisy_signal_scaled = add_pink_noise(signal, noise_std=0.5)\n",
    "    artificial_noise_signals.append(noisy_signal_scaled)\n",
    "\n",
    "datasets_artificial_noise = {\n",
    "    \"channel_names\": channel_names,\n",
    "    \"noisy_scaled_eeg\": artificial_noise_signals\n",
    "}"
   ]
  },
  {
   "cell_type": "code",
   "execution_count": 19,
   "metadata": {},
   "outputs": [],
   "source": [
    "# noisy_data, _ = noisy[:]\n",
    "# noisy_data.shape\n",
    "# noisy_data_df = pd.DataFrame(noisy_data.T, columns=noisy.ch_names)\n",
    "# noisy_data_df.head(5)"
   ]
  },
  {
   "cell_type": "code",
   "execution_count": 20,
   "metadata": {},
   "outputs": [],
   "source": [
    "# Second approach\n",
    "# sigma = 0.05 # Noise variance\n",
    "# noisy_signal = signal + sigma * np.random.randn(signal.size)\n",
    "# or\n",
    "# noisy_data = data + np.random.normal(0, 0.1, size=data.shape)"
   ]
  },
  {
   "cell_type": "markdown",
   "metadata": {},
   "source": [
    "# Save data to pkl"
   ]
  },
  {
   "cell_type": "code",
   "execution_count": 21,
   "metadata": {},
   "outputs": [],
   "source": [
    "with open(data_path + \"/eeg_dataset_raw.pkl\", \"wb\") as f:\n",
    "    pickle.dump({\"datasets_mne_format\": eeg_datasets, \"datasets_artnoise_mne_format\": datasets_artificial_noise}, f)"
   ]
  }
 ],
 "metadata": {
  "kernelspec": {
   "display_name": "opsi",
   "language": "python",
   "name": "python3"
  },
  "language_info": {
   "codemirror_mode": {
    "name": "ipython",
    "version": 3
   },
   "file_extension": ".py",
   "mimetype": "text/x-python",
   "name": "python",
   "nbconvert_exporter": "python",
   "pygments_lexer": "ipython3",
   "version": "3.12.3"
  }
 },
 "nbformat": 4,
 "nbformat_minor": 2
}
