{
 "cells": [
  {
   "cell_type": "code",
   "execution_count": 1,
   "metadata": {},
   "outputs": [],
   "source": [
    "# 02_preprocessing.ipynb\n",
    "\n",
    "# Author: Eryk Urbański\n",
    "# Date: April 2025\n",
    "# Description: Load raw EEG data, perform filtering, add artificial noise."
   ]
  },
  {
   "cell_type": "markdown",
   "metadata": {},
   "source": [
    "# Import packages"
   ]
  },
  {
   "cell_type": "code",
   "execution_count": 39,
   "metadata": {},
   "outputs": [],
   "source": [
    "import pickle\n",
    "from sklearn.preprocessing import StandardScaler\n",
    "import numpy as np\n",
    "import pandas as pd\n",
    "from mne import make_ad_hoc_cov, set_eeg_reference\n",
    "from mne.simulation import add_noise"
   ]
  },
  {
   "cell_type": "markdown",
   "metadata": {},
   "source": [
    "# Load datasets"
   ]
  },
  {
   "cell_type": "markdown",
   "metadata": {},
   "source": [
    "### Load EEGBCI data"
   ]
  },
  {
   "cell_type": "code",
   "execution_count": 48,
   "metadata": {},
   "outputs": [
    {
     "ename": "AttributeError",
     "evalue": "'list' object has no attribute 'T'",
     "output_type": "error",
     "traceback": [
      "\u001b[1;31m---------------------------------------------------------------------------\u001b[0m",
      "\u001b[1;31mAttributeError\u001b[0m                            Traceback (most recent call last)",
      "Cell \u001b[1;32mIn[48], line 5\u001b[0m\n\u001b[0;32m      2\u001b[0m     eeg_datasets_dict \u001b[38;5;241m=\u001b[39m pickle\u001b[38;5;241m.\u001b[39mload(f)\n\u001b[0;32m      4\u001b[0m eeg_datasets \u001b[38;5;241m=\u001b[39m eeg_datasets_dict[\u001b[38;5;124m\"\u001b[39m\u001b[38;5;124mdatasets_mne_format\u001b[39m\u001b[38;5;124m\"\u001b[39m]\n\u001b[1;32m----> 5\u001b[0m \u001b[43meeg_datasets\u001b[49m\u001b[43m[\u001b[49m\u001b[38;5;241;43m0\u001b[39;49m\u001b[43m]\u001b[49m\u001b[38;5;241;43m.\u001b[39;49m\u001b[43mch_names\u001b[49m\u001b[38;5;241;43m.\u001b[39;49m\u001b[43mT\u001b[49m\n\u001b[0;32m      7\u001b[0m \u001b[38;5;66;03m# original_bci = eeg_datasets_dict[\"datasets_mne_format\"][0]\u001b[39;00m\n\u001b[0;32m      8\u001b[0m \u001b[38;5;66;03m# original_bci_channel_names = original_bci.ch_names\u001b[39;00m\n\u001b[0;32m      9\u001b[0m \u001b[38;5;66;03m# original_bci_data, original_bci_times = original_bci[:]\u001b[39;00m\n\u001b[0;32m     10\u001b[0m \u001b[38;5;66;03m# original_bci_data_df = pd.DataFrame(original_bci_data.T, columns=original_bci_channel_names)\u001b[39;00m\n\u001b[0;32m     11\u001b[0m \u001b[38;5;66;03m# original_bci_data_df.head(5)\u001b[39;00m\n",
      "\u001b[1;31mAttributeError\u001b[0m: 'list' object has no attribute 'T'"
     ]
    }
   ],
   "source": [
    "with open(\"../data/eeg_datasets.pkl\", \"rb\") as f:\n",
    "    eeg_datasets_dict = pickle.load(f)\n",
    "    \n",
    "eeg_datasets = eeg_datasets_dict[\"datasets_mne_format\"]\n",
    "\n",
    "# original_bci = eeg_datasets_dict[\"datasets_mne_format\"][0]\n",
    "# original_bci_channel_names = original_bci.ch_names\n",
    "# original_bci_data, original_bci_times = original_bci[:]\n",
    "# original_bci_data_df = pd.DataFrame(original_bci_data.T, columns=original_bci_channel_names)\n",
    "# original_bci_data_df.head(5)"
   ]
  },
  {
   "cell_type": "markdown",
   "metadata": {},
   "source": [
    "# Scale Signal"
   ]
  },
  {
   "cell_type": "code",
   "execution_count": 51,
   "metadata": {},
   "outputs": [],
   "source": [
    "scaler = StandardScaler()\n",
    "data, times = eeg_datasets[0][:]\n",
    "data.shape\n",
    "scaled_eeg_data = scaler.fit_transform(data.T).T\n",
    "\n",
    "\n",
    "channel_names = eeg_datasets[0].ch_names\n",
    "eeg_datasets = {\n",
    "    \"channel_names\": channel_names,\n",
    "    \"original_scaled_eeg\": scaled_eeg_data\n",
    "}"
   ]
  },
  {
   "cell_type": "markdown",
   "metadata": {},
   "source": [
    "# Add artificial noise"
   ]
  },
  {
   "cell_type": "code",
   "execution_count": 52,
   "metadata": {},
   "outputs": [],
   "source": [
    "def add_gaussian_noise(signal, noise_std=0.5):\n",
    "    noise = np.random.normal(0, noise_std, size=signal.shape)\n",
    "    return signal + noise"
   ]
  },
  {
   "cell_type": "code",
   "execution_count": 54,
   "metadata": {},
   "outputs": [],
   "source": [
    "artificial_noise_signals = []\n",
    "\n",
    "for signal in scaled_eeg_data:\n",
    "    noisy_signal_scaled = add_gaussian_noise(signal, noise_std=0.5)\n",
    "    artificial_noise_signals.append(noisy_signal_scaled)\n",
    "\n",
    "datasets_artificial_noise = {\n",
    "    \"channel_names\": channel_names,\n",
    "    \"noisy_scaled_eeg\": artificial_noise_signals\n",
    "}"
   ]
  },
  {
   "cell_type": "code",
   "execution_count": 6,
   "metadata": {},
   "outputs": [],
   "source": [
    "# noisy_data, _ = noisy[:]\n",
    "# noisy_data.shape\n",
    "# noisy_data_df = pd.DataFrame(noisy_data.T, columns=noisy.ch_names)\n",
    "# noisy_data_df.head(5)"
   ]
  },
  {
   "cell_type": "code",
   "execution_count": 7,
   "metadata": {},
   "outputs": [],
   "source": [
    "# Second approach\n",
    "# sigma = 0.05 # Noise variance\n",
    "# noisy_signal = signal + sigma * np.random.randn(signal.size)\n",
    "# or\n",
    "# noisy_data = data + np.random.normal(0, 0.1, size=data.shape)"
   ]
  },
  {
   "cell_type": "markdown",
   "metadata": {},
   "source": [
    "# Save data to pkl"
   ]
  },
  {
   "cell_type": "code",
   "execution_count": 56,
   "metadata": {},
   "outputs": [],
   "source": [
    "with open(\"../data/eeg_dataset.pkl\", \"wb\") as f:\n",
    "    pickle.dump({\"datasets_mne_format\": eeg_datasets, \"datasets_artnoise_mne_format\": datasets_artificial_noise}, f)"
   ]
  }
 ],
 "metadata": {
  "kernelspec": {
   "display_name": "opsi",
   "language": "python",
   "name": "python3"
  },
  "language_info": {
   "codemirror_mode": {
    "name": "ipython",
    "version": 3
   },
   "file_extension": ".py",
   "mimetype": "text/x-python",
   "name": "python",
   "nbconvert_exporter": "python",
   "pygments_lexer": "ipython3",
   "version": "3.12.3"
  }
 },
 "nbformat": 4,
 "nbformat_minor": 2
}
