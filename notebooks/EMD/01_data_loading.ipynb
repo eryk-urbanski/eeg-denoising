{
 "cells": [
  {
   "cell_type": "code",
   "execution_count": 31,
   "id": "f5fbe349",
   "metadata": {},
   "outputs": [],
   "source": [
    "# 01_data_loading.ipynb\n",
    "\n",
    "# Author: Eryk Urbański\n",
    "# Date: April 2025\n",
    "# Description: Load raw EEG data and convert to MNE format for further processing."
   ]
  },
  {
   "cell_type": "markdown",
   "id": "04ad4bb6",
   "metadata": {},
   "source": [
    "# Import packages and tools"
   ]
  },
  {
   "cell_type": "code",
   "execution_count": 32,
   "id": "2edf6c05",
   "metadata": {},
   "outputs": [],
   "source": [
    "import matplotlib.pyplot as plt\n",
    "import pandas as pd\n",
    "import numpy as np\n",
    "from mne.io import concatenate_raws, read_raw_edf\n",
    "from mne.datasets import eegbci\n",
    "\n",
    "import pickle\n",
    "import sys\n",
    "# sys.path.append(\"../src\")\n",
    "# from vis import plot_eeg, plot_eeg_with_time\n",
    "\n",
    "# import os\n",
    "# os.environ[\"MNE_DATA\"] = \"E:\\\\mne_data\" # Adjust as needed"
   ]
  },
  {
   "cell_type": "markdown",
   "id": "2c0e5a31",
   "metadata": {},
   "source": [
    "# Load built-in data"
   ]
  },
  {
   "cell_type": "code",
   "execution_count": 33,
   "id": "cb5839e3",
   "metadata": {},
   "outputs": [
    {
     "name": "stdout",
     "output_type": "stream",
     "text": [
      "Extracting EDF parameters from C:\\Users\\blaze\\mne_data\\MNE-eegbci-data\\files\\eegmmidb\\1.0.0\\S001\\S001R04.edf...\n",
      "EDF file detected\n",
      "Setting channel info structure...\n",
      "Creating raw.info structure...\n",
      "Reading 0 ... 19999  =      0.000 ...   124.994 secs...\n",
      "Extracting EDF parameters from C:\\Users\\blaze\\mne_data\\MNE-eegbci-data\\files\\eegmmidb\\1.0.0\\S001\\S001R08.edf...\n",
      "EDF file detected\n",
      "Setting channel info structure...\n",
      "Creating raw.info structure...\n",
      "Reading 0 ... 19999  =      0.000 ...   124.994 secs...\n",
      "Extracting EDF parameters from C:\\Users\\blaze\\mne_data\\MNE-eegbci-data\\files\\eegmmidb\\1.0.0\\S001\\S001R12.edf...\n",
      "EDF file detected\n",
      "Setting channel info structure...\n",
      "Creating raw.info structure...\n",
      "Reading 0 ... 19999  =      0.000 ...   124.994 secs...\n"
     ]
    }
   ],
   "source": [
    "data_path = 'C:/Users/blaze/Desktop/opsi_eeg_denoising/eeg-denoising/data'\n",
    "subjects = [1]  # may vary\n",
    "runs = [4, 8, 12]  # may vary\n",
    "raw_fnames = eegbci.load_data(subjects, runs)\n",
    "raws = [read_raw_edf(f, preload=True) for f in raw_fnames]\n",
    "\n",
    "raw = concatenate_raws(raws) # concatenate runs from subject\n",
    "# raw.filter(0.3, None, picks=\"all\") # Highpass filter to eliminate slow drifts\n",
    "eegbci.standardize(raw) # make channel names follow standard conventions"
   ]
  },
  {
   "cell_type": "markdown",
   "id": "24fa54e8",
   "metadata": {},
   "source": [
    "# Load PhysioNet data"
   ]
  },
  {
   "cell_type": "code",
   "execution_count": 34,
   "id": "d2a49250",
   "metadata": {},
   "outputs": [],
   "source": [
    "# TODO"
   ]
  },
  {
   "cell_type": "markdown",
   "id": "45209d59",
   "metadata": {},
   "source": [
    "# Data exploration"
   ]
  },
  {
   "cell_type": "code",
   "execution_count": 35,
   "id": "b9ce01fd",
   "metadata": {},
   "outputs": [
    {
     "data": {
      "text/plain": [
       "((64, 60000), (60000,))"
      ]
     },
     "execution_count": 35,
     "metadata": {},
     "output_type": "execute_result"
    }
   ],
   "source": [
    "data, times = raw[:] # data: channels x time ; times: time x 1\n",
    "data.shape, times.shape"
   ]
  },
  {
   "cell_type": "code",
   "execution_count": 36,
   "id": "9c5652fe",
   "metadata": {},
   "outputs": [
    {
     "data": {
      "text/html": [
       "<div>\n",
       "<style scoped>\n",
       "    .dataframe tbody tr th:only-of-type {\n",
       "        vertical-align: middle;\n",
       "    }\n",
       "\n",
       "    .dataframe tbody tr th {\n",
       "        vertical-align: top;\n",
       "    }\n",
       "\n",
       "    .dataframe thead th {\n",
       "        text-align: right;\n",
       "    }\n",
       "</style>\n",
       "<table border=\"1\" class=\"dataframe\">\n",
       "  <thead>\n",
       "    <tr style=\"text-align: right;\">\n",
       "      <th></th>\n",
       "      <th>FC5</th>\n",
       "      <th>FC3</th>\n",
       "      <th>FC1</th>\n",
       "      <th>FCz</th>\n",
       "      <th>FC2</th>\n",
       "      <th>FC4</th>\n",
       "      <th>FC6</th>\n",
       "      <th>C5</th>\n",
       "      <th>C3</th>\n",
       "      <th>C1</th>\n",
       "      <th>...</th>\n",
       "      <th>P8</th>\n",
       "      <th>PO7</th>\n",
       "      <th>PO3</th>\n",
       "      <th>POz</th>\n",
       "      <th>PO4</th>\n",
       "      <th>PO8</th>\n",
       "      <th>O1</th>\n",
       "      <th>Oz</th>\n",
       "      <th>O2</th>\n",
       "      <th>Iz</th>\n",
       "    </tr>\n",
       "  </thead>\n",
       "  <tbody>\n",
       "    <tr>\n",
       "      <th>0</th>\n",
       "      <td>-0.000005</td>\n",
       "      <td>0.000002</td>\n",
       "      <td>0.000037</td>\n",
       "      <td>0.000039</td>\n",
       "      <td>0.000030</td>\n",
       "      <td>0.000026</td>\n",
       "      <td>-0.000016</td>\n",
       "      <td>-0.000014</td>\n",
       "      <td>0.000004</td>\n",
       "      <td>0.000018</td>\n",
       "      <td>...</td>\n",
       "      <td>-0.000021</td>\n",
       "      <td>-0.000008</td>\n",
       "      <td>-0.000035</td>\n",
       "      <td>-0.000045</td>\n",
       "      <td>-0.000066</td>\n",
       "      <td>-0.000039</td>\n",
       "      <td>-0.000033</td>\n",
       "      <td>-0.000048</td>\n",
       "      <td>-0.000039</td>\n",
       "      <td>-0.000039</td>\n",
       "    </tr>\n",
       "    <tr>\n",
       "      <th>1</th>\n",
       "      <td>-0.000012</td>\n",
       "      <td>-0.000024</td>\n",
       "      <td>0.000001</td>\n",
       "      <td>-0.000002</td>\n",
       "      <td>-0.000015</td>\n",
       "      <td>-0.000022</td>\n",
       "      <td>-0.000055</td>\n",
       "      <td>-0.000036</td>\n",
       "      <td>-0.000027</td>\n",
       "      <td>-0.000025</td>\n",
       "      <td>...</td>\n",
       "      <td>-0.000050</td>\n",
       "      <td>-0.000040</td>\n",
       "      <td>-0.000068</td>\n",
       "      <td>-0.000065</td>\n",
       "      <td>-0.000084</td>\n",
       "      <td>-0.000052</td>\n",
       "      <td>-0.000021</td>\n",
       "      <td>-0.000042</td>\n",
       "      <td>-0.000031</td>\n",
       "      <td>-0.000034</td>\n",
       "    </tr>\n",
       "    <tr>\n",
       "      <th>2</th>\n",
       "      <td>-0.000077</td>\n",
       "      <td>-0.000078</td>\n",
       "      <td>-0.000059</td>\n",
       "      <td>-0.000065</td>\n",
       "      <td>-0.000063</td>\n",
       "      <td>-0.000055</td>\n",
       "      <td>-0.000067</td>\n",
       "      <td>-0.000088</td>\n",
       "      <td>-0.000071</td>\n",
       "      <td>-0.000065</td>\n",
       "      <td>...</td>\n",
       "      <td>-0.000017</td>\n",
       "      <td>-0.000022</td>\n",
       "      <td>-0.000050</td>\n",
       "      <td>-0.000035</td>\n",
       "      <td>-0.000048</td>\n",
       "      <td>-0.000018</td>\n",
       "      <td>-0.000020</td>\n",
       "      <td>-0.000042</td>\n",
       "      <td>-0.000029</td>\n",
       "      <td>-0.000027</td>\n",
       "    </tr>\n",
       "    <tr>\n",
       "      <th>3</th>\n",
       "      <td>-0.000066</td>\n",
       "      <td>-0.000067</td>\n",
       "      <td>-0.000050</td>\n",
       "      <td>-0.000065</td>\n",
       "      <td>-0.000060</td>\n",
       "      <td>-0.000055</td>\n",
       "      <td>-0.000068</td>\n",
       "      <td>-0.000062</td>\n",
       "      <td>-0.000053</td>\n",
       "      <td>-0.000054</td>\n",
       "      <td>...</td>\n",
       "      <td>-0.000039</td>\n",
       "      <td>-0.000060</td>\n",
       "      <td>-0.000078</td>\n",
       "      <td>-0.000064</td>\n",
       "      <td>-0.000068</td>\n",
       "      <td>-0.000041</td>\n",
       "      <td>-0.000044</td>\n",
       "      <td>-0.000062</td>\n",
       "      <td>-0.000034</td>\n",
       "      <td>-0.000043</td>\n",
       "    </tr>\n",
       "    <tr>\n",
       "      <th>4</th>\n",
       "      <td>-0.000045</td>\n",
       "      <td>-0.000055</td>\n",
       "      <td>-0.000033</td>\n",
       "      <td>-0.000053</td>\n",
       "      <td>-0.000054</td>\n",
       "      <td>-0.000063</td>\n",
       "      <td>-0.000083</td>\n",
       "      <td>-0.000052</td>\n",
       "      <td>-0.000050</td>\n",
       "      <td>-0.000053</td>\n",
       "      <td>...</td>\n",
       "      <td>-0.000044</td>\n",
       "      <td>-0.000055</td>\n",
       "      <td>-0.000070</td>\n",
       "      <td>-0.000054</td>\n",
       "      <td>-0.000063</td>\n",
       "      <td>-0.000037</td>\n",
       "      <td>-0.000060</td>\n",
       "      <td>-0.000070</td>\n",
       "      <td>-0.000034</td>\n",
       "      <td>-0.000045</td>\n",
       "    </tr>\n",
       "  </tbody>\n",
       "</table>\n",
       "<p>5 rows × 64 columns</p>\n",
       "</div>"
      ],
      "text/plain": [
       "        FC5       FC3       FC1       FCz       FC2       FC4       FC6  \\\n",
       "0 -0.000005  0.000002  0.000037  0.000039  0.000030  0.000026 -0.000016   \n",
       "1 -0.000012 -0.000024  0.000001 -0.000002 -0.000015 -0.000022 -0.000055   \n",
       "2 -0.000077 -0.000078 -0.000059 -0.000065 -0.000063 -0.000055 -0.000067   \n",
       "3 -0.000066 -0.000067 -0.000050 -0.000065 -0.000060 -0.000055 -0.000068   \n",
       "4 -0.000045 -0.000055 -0.000033 -0.000053 -0.000054 -0.000063 -0.000083   \n",
       "\n",
       "         C5        C3        C1  ...        P8       PO7       PO3       POz  \\\n",
       "0 -0.000014  0.000004  0.000018  ... -0.000021 -0.000008 -0.000035 -0.000045   \n",
       "1 -0.000036 -0.000027 -0.000025  ... -0.000050 -0.000040 -0.000068 -0.000065   \n",
       "2 -0.000088 -0.000071 -0.000065  ... -0.000017 -0.000022 -0.000050 -0.000035   \n",
       "3 -0.000062 -0.000053 -0.000054  ... -0.000039 -0.000060 -0.000078 -0.000064   \n",
       "4 -0.000052 -0.000050 -0.000053  ... -0.000044 -0.000055 -0.000070 -0.000054   \n",
       "\n",
       "        PO4       PO8        O1        Oz        O2        Iz  \n",
       "0 -0.000066 -0.000039 -0.000033 -0.000048 -0.000039 -0.000039  \n",
       "1 -0.000084 -0.000052 -0.000021 -0.000042 -0.000031 -0.000034  \n",
       "2 -0.000048 -0.000018 -0.000020 -0.000042 -0.000029 -0.000027  \n",
       "3 -0.000068 -0.000041 -0.000044 -0.000062 -0.000034 -0.000043  \n",
       "4 -0.000063 -0.000037 -0.000060 -0.000070 -0.000034 -0.000045  \n",
       "\n",
       "[5 rows x 64 columns]"
      ]
     },
     "execution_count": 36,
     "metadata": {},
     "output_type": "execute_result"
    }
   ],
   "source": [
    "data_df = pd.DataFrame(data.T, columns=raw.ch_names)\n",
    "data_df.head(5)"
   ]
  },
  {
   "cell_type": "markdown",
   "id": "a1932c81",
   "metadata": {},
   "source": [
    "# Save data to pkl"
   ]
  },
  {
   "cell_type": "code",
   "execution_count": 37,
   "id": "aa923777",
   "metadata": {},
   "outputs": [],
   "source": [
    "eeg_datasets = []\n",
    "eeg_datasets.append(raw)\n",
    "\n",
    "with open(data_path + \"/eeg_dataset_raw.pkl\", \"wb\") as f:\n",
    "    pickle.dump({\"datasets_mne_format\": eeg_datasets}, f)"
   ]
  }
 ],
 "metadata": {
  "kernelspec": {
   "display_name": "opsi",
   "language": "python",
   "name": "python3"
  },
  "language_info": {
   "codemirror_mode": {
    "name": "ipython",
    "version": 3
   },
   "file_extension": ".py",
   "mimetype": "text/x-python",
   "name": "python",
   "nbconvert_exporter": "python",
   "pygments_lexer": "ipython3",
   "version": "3.12.3"
  }
 },
 "nbformat": 4,
 "nbformat_minor": 5
}
