{
 "cells": [
  {
   "cell_type": "code",
   "execution_count": 1,
   "id": "d4a97a6c",
   "metadata": {},
   "outputs": [],
   "source": [
    "import pickle\n",
    "\n",
    "from itertools import product\n",
    "import sys\n",
    "sys.path.append(\"../src\")  # Adjust this path as needed\n",
    "from denoising_methods import *"
   ]
  },
  {
   "cell_type": "markdown",
   "id": "bb8c24aa",
   "metadata": {},
   "source": [
    "# Load data"
   ]
  },
  {
   "cell_type": "code",
   "execution_count": 2,
   "id": "501bfef8",
   "metadata": {},
   "outputs": [],
   "source": [
    "with open(\"../data/eeg_datasets.pkl\", \"rb\") as f:\n",
    "    eeg_datasets_dict = pickle.load(f)\n",
    "\n",
    "original_datasets = eeg_datasets_dict[\"datasets_mne_format\"]\n",
    "noisy_datasets = eeg_datasets_dict[\"datasets_artnoise_mne_format\"]"
   ]
  },
  {
   "cell_type": "markdown",
   "id": "29b5cf27",
   "metadata": {},
   "source": [
    "# Perform denoising"
   ]
  },
  {
   "cell_type": "markdown",
   "id": "dcf7ddfb",
   "metadata": {},
   "source": [
    "### Wavelet Transform with Thresholding"
   ]
  },
  {
   "cell_type": "markdown",
   "id": "41352fbc",
   "metadata": {},
   "source": [
    "#### Preparing parameters"
   ]
  },
  {
   "cell_type": "code",
   "execution_count": 3,
   "id": "4c3ce24a",
   "metadata": {},
   "outputs": [],
   "source": [
    "wavelet_types = ['haar', 'db2', 'db6', 'db8', 'sym4', 'sym6']\n",
    "levels = [1, 2, 3, 4, 5]\n",
    "threshold_modes = ['soft', 'hard']\n",
    "\n",
    "param_combinations = product(wavelet_types, levels, threshold_modes)"
   ]
  },
  {
   "cell_type": "code",
   "execution_count": 4,
   "id": "767d5cc7",
   "metadata": {},
   "outputs": [],
   "source": [
    "results_wt = []"
   ]
  },
  {
   "cell_type": "code",
   "execution_count": 5,
   "id": "bd6426d7",
   "metadata": {},
   "outputs": [
    {
     "name": "stdout",
     "output_type": "stream",
     "text": [
      "(64, 60000) (64, 60000)\n",
      "(64, 60000) (64, 60000)\n",
      "(64, 60000) (64, 60000)\n",
      "(64, 60000) (64, 60000)\n",
      "(64, 60000) (64, 60000)\n",
      "(64, 60000) (64, 60000)\n",
      "(64, 60000) (64, 60000)\n",
      "(64, 60000) (64, 60000)\n",
      "(64, 60000) (64, 60000)\n",
      "(64, 60000) (64, 60000)\n",
      "(64, 60000) (64, 60000)\n",
      "(64, 60000) (64, 60000)\n",
      "(64, 60000) (64, 60000)\n",
      "(64, 60000) (64, 60000)\n",
      "(64, 60000) (64, 60000)\n",
      "(64, 60000) (64, 60000)\n",
      "(64, 60000) (64, 60000)\n",
      "(64, 60000) (64, 60000)\n",
      "(64, 60000) (64, 60000)\n",
      "(64, 60000) (64, 60000)\n",
      "(64, 60000) (64, 60000)\n",
      "(64, 60000) (64, 60000)\n",
      "(64, 60000) (64, 60000)\n",
      "(64, 60000) (64, 60000)\n",
      "(64, 60000) (64, 60000)\n",
      "(64, 60000) (64, 60000)\n",
      "(64, 60000) (64, 60000)\n",
      "(64, 60000) (64, 60000)\n",
      "(64, 60000) (64, 60000)\n",
      "(64, 60000) (64, 60000)\n",
      "(64, 60000) (64, 60000)\n",
      "(64, 60000) (64, 60000)\n",
      "(64, 60000) (64, 60000)\n",
      "(64, 60000) (64, 60000)\n",
      "(64, 60000) (64, 60000)\n",
      "(64, 60000) (64, 60000)\n",
      "(64, 60000) (64, 60000)\n",
      "(64, 60000) (64, 60000)\n",
      "(64, 60000) (64, 60000)\n",
      "(64, 60000) (64, 60000)\n",
      "(64, 60000) (64, 60000)\n",
      "(64, 60000) (64, 60000)\n",
      "(64, 60000) (64, 60000)\n",
      "(64, 60000) (64, 60000)\n",
      "(64, 60000) (64, 60000)\n",
      "(64, 60000) (64, 60000)\n",
      "(64, 60000) (64, 60000)\n",
      "(64, 60000) (64, 60000)\n",
      "(64, 60000) (64, 60000)\n",
      "(64, 60000) (64, 60000)\n",
      "(64, 60000) (64, 60000)\n",
      "(64, 60000) (64, 60000)\n",
      "(64, 60000) (64, 60000)\n",
      "(64, 60000) (64, 60000)\n",
      "(64, 60000) (64, 60000)\n",
      "(64, 60000) (64, 60000)\n",
      "(64, 60000) (64, 60000)\n",
      "(64, 60000) (64, 60000)\n",
      "(64, 60000) (64, 60000)\n",
      "(64, 60000) (64, 60000)\n"
     ]
    }
   ],
   "source": [
    "for original, noisy in zip(original_datasets, noisy_datasets):\n",
    "    signal, times = noisy[:]\n",
    "    denoised_dict = {\n",
    "        \"dataset_original\": original, # TODO change to just the name of dataset\n",
    "        \"dataset_noisy\": noisy,\n",
    "        \"parameter_sets\": [],\n",
    "        \"denoised_signals\": [],\n",
    "    }\n",
    "    for wavelet_type, level, threshold_mode in param_combinations:\n",
    "        params = {\n",
    "            \"wavelet_type\": wavelet_type,\n",
    "            \"level\": level,\n",
    "            \"threshold_mode\": threshold_mode\n",
    "        }\n",
    "        denoised_dict[\"parameter_sets\"].append(params)\n",
    "        denoised_signal = denoise_multichannel(signal, wavelet_type, level, threshold_mode)\n",
    "        print(denoised_signal.shape, signal.shape)\n",
    "        denoised_dict[\"denoised_signals\"].append(denoised_signal)\n",
    "    results_wt.append(denoised_dict)\n"
   ]
  },
  {
   "cell_type": "code",
   "execution_count": null,
   "id": "822b4ae2",
   "metadata": {},
   "outputs": [],
   "source": [
    "with open(\"../data/denoised_data.pkl\", \"wb\") as f:\n",
    "    pickle.dump({\"results_wavelet_denoising\": results_wt}, f) # TODO change it cus shit is too big (1.8 GB)"
   ]
  }
 ],
 "metadata": {
  "kernelspec": {
   "display_name": "opsi",
   "language": "python",
   "name": "python3"
  },
  "language_info": {
   "codemirror_mode": {
    "name": "ipython",
    "version": 3
   },
   "file_extension": ".py",
   "mimetype": "text/x-python",
   "name": "python",
   "nbconvert_exporter": "python",
   "pygments_lexer": "ipython3",
   "version": "3.12.3"
  }
 },
 "nbformat": 4,
 "nbformat_minor": 5
}
