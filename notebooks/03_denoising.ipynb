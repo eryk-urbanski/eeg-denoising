{
 "cells": [
  {
   "cell_type": "code",
   "execution_count": 1,
   "id": "d4a97a6c",
   "metadata": {},
   "outputs": [],
   "source": [
    "import pickle\n",
    "\n",
    "from itertools import product\n",
    "import sys\n",
    "sys.path.append(\"../src\")\n",
    "from denoising_methods import *"
   ]
  },
  {
   "cell_type": "markdown",
   "id": "bb8c24aa",
   "metadata": {},
   "source": [
    "# Load data"
   ]
  },
  {
   "cell_type": "code",
   "execution_count": 3,
   "id": "501bfef8",
   "metadata": {},
   "outputs": [],
   "source": [
    "with open(\"../data/eeg_datasets.pkl\", \"rb\") as f:\n",
    "    eeg_datasets_dict = pickle.load(f)\n",
    "\n",
    "original_datasets = eeg_datasets_dict[\"datasets\"]\n",
    "noisy_datasets = eeg_datasets_dict[\"datasets_artnoise\"]"
   ]
  },
  {
   "cell_type": "markdown",
   "id": "29b5cf27",
   "metadata": {},
   "source": [
    "# Perform denoising - artificial noise scenario"
   ]
  },
  {
   "cell_type": "markdown",
   "id": "dcf7ddfb",
   "metadata": {},
   "source": [
    "### Wavelet Transform with Thresholding"
   ]
  },
  {
   "cell_type": "markdown",
   "id": "41352fbc",
   "metadata": {},
   "source": [
    "#### Preparing parameters"
   ]
  },
  {
   "cell_type": "code",
   "execution_count": 4,
   "id": "4c3ce24a",
   "metadata": {},
   "outputs": [],
   "source": [
    "wavelet_types = ['haar', 'coif4', 'coif8', 'db4', 'db8', 'sym4', 'sym8']\n",
    "levels = [1, 2, 3, 4, 5]\n",
    "threshold_modes = ['soft', 'hard']\n",
    "\n",
    "param_combinations = product(wavelet_types, levels, threshold_modes)"
   ]
  },
  {
   "cell_type": "code",
   "execution_count": 5,
   "id": "767d5cc7",
   "metadata": {},
   "outputs": [],
   "source": [
    "results_wt = []"
   ]
  },
  {
   "cell_type": "code",
   "execution_count": 6,
   "id": "bd6426d7",
   "metadata": {},
   "outputs": [],
   "source": [
    "for original, noisy in zip(original_datasets, noisy_datasets):\n",
    "    signal, times = noisy[\"noisy_data\"], original[\"times\"]\n",
    "    denoised_dict = {\n",
    "        \"dataset_name\": original[\"name\"],\n",
    "        \"parameter_sets\": [],\n",
    "        \"denoised_signals\": [],\n",
    "    }\n",
    "    param_combinations = product(wavelet_types, levels, threshold_modes)\n",
    "    for wavelet_type, level, threshold_mode in param_combinations:\n",
    "        params = {\n",
    "            \"wavelet_type\": wavelet_type,\n",
    "            \"level\": level,\n",
    "            \"threshold_mode\": threshold_mode\n",
    "        }\n",
    "        denoised_dict[\"parameter_sets\"].append(params)\n",
    "        denoised_signal = wt_denoise_multichannel(signal, wavelet_type, level, threshold_mode)\n",
    "        # print(denoised_signal.shape, signal.shape)\n",
    "        denoised_dict[\"denoised_signals\"].append(denoised_signal)\n",
    "    results_wt.append(denoised_dict)\n"
   ]
  },
  {
   "cell_type": "markdown",
   "id": "b01913e2",
   "metadata": {},
   "source": [
    "### ICA"
   ]
  },
  {
   "cell_type": "code",
   "execution_count": 7,
   "id": "6c9b7aa2",
   "metadata": {},
   "outputs": [],
   "source": [
    "n_components_list = [None, 5, 10, 15, 20]"
   ]
  },
  {
   "cell_type": "code",
   "execution_count": 8,
   "id": "e706c625",
   "metadata": {},
   "outputs": [],
   "source": [
    "results_ica = []"
   ]
  },
  {
   "cell_type": "code",
   "execution_count": 9,
   "metadata": {},
   "outputs": [
    {
     "name": "stderr",
     "output_type": "stream",
     "text": [
      "e:\\anaconda3\\envs\\eeg_denoising\\Lib\\site-packages\\sklearn\\decomposition\\_fastica.py:127: ConvergenceWarning: FastICA did not converge. Consider increasing tolerance or the maximum number of iterations.\n",
      "  warnings.warn(\n",
      "e:\\anaconda3\\envs\\eeg_denoising\\Lib\\site-packages\\sklearn\\decomposition\\_fastica.py:127: ConvergenceWarning: FastICA did not converge. Consider increasing tolerance or the maximum number of iterations.\n",
      "  warnings.warn(\n",
      "e:\\anaconda3\\envs\\eeg_denoising\\Lib\\site-packages\\sklearn\\decomposition\\_fastica.py:127: ConvergenceWarning: FastICA did not converge. Consider increasing tolerance or the maximum number of iterations.\n",
      "  warnings.warn(\n"
     ]
    }
   ],
   "source": [
    "for original, noisy in zip(original_datasets, noisy_datasets):\n",
    "    signal, times = noisy[\"noisy_data\"], original[\"times\"]\n",
    "    \n",
    "    denoised_dict = {\n",
    "        \"dataset_name\": original[\"name\"],\n",
    "        \"parameter_sets\": [],\n",
    "        \"denoised_signals\": [],\n",
    "    }\n",
    "\n",
    "    for n_components in n_components_list:\n",
    "        params = {\n",
    "            \"n_components\": n_components,\n",
    "        }\n",
    "        denoised_dict[\"parameter_sets\"].append(params)\n",
    "        \n",
    "        denoised_signal = ica_denoise_multichannel(signal, n_components=n_components)\n",
    "        denoised_dict[\"denoised_signals\"].append(denoised_signal)\n",
    "\n",
    "    results_ica.append(denoised_dict)"
   ]
  },
  {
   "cell_type": "markdown",
   "id": "b9db5cd6",
   "metadata": {},
   "source": [
    "# Perform denoising - original data scenario"
   ]
  },
  {
   "cell_type": "markdown",
   "id": "a3f4e1ce",
   "metadata": {},
   "source": [
    "### Wavelet Transform with Thresholding"
   ]
  },
  {
   "cell_type": "code",
   "execution_count": 10,
   "id": "cd9ac2d6",
   "metadata": {},
   "outputs": [],
   "source": [
    "results_wt_orig = []"
   ]
  },
  {
   "cell_type": "code",
   "execution_count": 12,
   "id": "3df05b0c",
   "metadata": {},
   "outputs": [],
   "source": [
    "wavelet_types = ['coif4', 'coif8', 'db8', 'sym8']\n",
    "levels = [3,]\n",
    "threshold_modes = ['soft', 'hard']\n",
    "\n",
    "param_combinations = product(wavelet_types, levels, threshold_modes)"
   ]
  },
  {
   "cell_type": "code",
   "execution_count": 13,
   "id": "2b94f841",
   "metadata": {},
   "outputs": [],
   "source": [
    "for original in original_datasets:\n",
    "    signal, times = original['data'], original['times']\n",
    "    denoised_dict = {\n",
    "        \"dataset_name\": original['name'],\n",
    "        \"parameter_sets\": [],\n",
    "        \"denoised_signals\": [],\n",
    "    }\n",
    "    param_combinations = product(wavelet_types, levels, threshold_modes)\n",
    "    for wavelet_type, level, threshold_mode in param_combinations:\n",
    "        params = {\n",
    "            \"wavelet_type\": wavelet_type,\n",
    "            \"level\": level,\n",
    "            \"threshold_mode\": threshold_mode\n",
    "        }\n",
    "        denoised_dict[\"parameter_sets\"].append(params)\n",
    "        denoised_signal = wt_denoise_multichannel(signal, wavelet_type, level, threshold_mode)\n",
    "        denoised_dict[\"denoised_signals\"].append(denoised_signal)\n",
    "    results_wt_orig.append(denoised_dict)"
   ]
  },
  {
   "cell_type": "markdown",
   "id": "e96a607e",
   "metadata": {},
   "source": [
    "### ICA"
   ]
  },
  {
   "cell_type": "code",
   "execution_count": 14,
   "id": "ea8742e7",
   "metadata": {},
   "outputs": [],
   "source": [
    "n_components_list = [1,2,3,4,5,15,]"
   ]
  },
  {
   "cell_type": "code",
   "execution_count": 15,
   "id": "6ec181ce",
   "metadata": {},
   "outputs": [],
   "source": [
    "results_ica_orig = []"
   ]
  },
  {
   "cell_type": "code",
   "execution_count": 16,
   "id": "3e5a6f2e",
   "metadata": {},
   "outputs": [],
   "source": [
    "for original in original_datasets:\n",
    "    signal, times = original['data'], original['times']\n",
    "    \n",
    "    denoised_dict = {\n",
    "        \"dataset_name\": original['name'],\n",
    "        \"parameter_sets\": [],\n",
    "        \"denoised_signals\": [],\n",
    "    }\n",
    "\n",
    "    for n_components in n_components_list:\n",
    "        params = {\n",
    "            \"n_components\": n_components,\n",
    "        }\n",
    "        denoised_dict[\"parameter_sets\"].append(params)\n",
    "\n",
    "        denoised_signal = ica_denoise_multichannel(signal, n_components=n_components)\n",
    "        denoised_dict[\"denoised_signals\"].append(denoised_signal)\n",
    "\n",
    "    results_ica_orig.append(denoised_dict)"
   ]
  },
  {
   "cell_type": "markdown",
   "id": "a9e3a990",
   "metadata": {},
   "source": [
    "# Save data to pkl"
   ]
  },
  {
   "cell_type": "code",
   "execution_count": 18,
   "id": "8e58cb3a",
   "metadata": {},
   "outputs": [
    {
     "data": {
      "text/plain": [
       "(1, 1, 1, 1)"
      ]
     },
     "execution_count": 18,
     "metadata": {},
     "output_type": "execute_result"
    }
   ],
   "source": [
    "len(results_wt_orig), len(results_wt), len(results_ica), len(results_ica_orig)"
   ]
  },
  {
   "cell_type": "code",
   "execution_count": 19,
   "id": "822b4ae2",
   "metadata": {},
   "outputs": [],
   "source": [
    "with open(\"../data/denoised_data.pkl\", \"wb\") as f:\n",
    "    pickle.dump(\n",
    "        {\"results_wavelet_denoising_artnoise\": results_wt, \n",
    "         \"results_wavelet_denoising_original\": results_wt_orig,\n",
    "         \"results_ica_artnoise\": results_ica,\n",
    "         \"results_ica_original\": results_ica_orig}, f)"
   ]
  }
 ],
 "metadata": {
  "kernelspec": {
   "display_name": "eeg_denoising",
   "language": "python",
   "name": "python3"
  },
  "language_info": {
   "codemirror_mode": {
    "name": "ipython",
    "version": 3
   },
   "file_extension": ".py",
   "mimetype": "text/x-python",
   "name": "python",
   "nbconvert_exporter": "python",
   "pygments_lexer": "ipython3",
   "version": "3.11.11"
  }
 },
 "nbformat": 4,
 "nbformat_minor": 5
}
