{
 "cells": [
  {
   "cell_type": "code",
   "execution_count": 1,
   "metadata": {},
   "outputs": [],
   "source": [
    "# 02_preprocessing.ipynb\n",
    "\n",
    "# Author: Eryk Urbański\n",
    "# Date: April 2025\n",
    "# Description: Load raw EEG data, perform filtering, add artificial noise."
   ]
  },
  {
   "cell_type": "markdown",
   "metadata": {},
   "source": [
    "# Import packages"
   ]
  },
  {
   "cell_type": "code",
   "execution_count": 1,
   "metadata": {},
   "outputs": [],
   "source": [
    "import pickle\n",
    "import numpy as np\n",
    "import pandas as pd\n",
    "from mne import make_ad_hoc_cov, set_eeg_reference\n",
    "from mne.simulation import add_noise"
   ]
  },
  {
   "cell_type": "markdown",
   "metadata": {},
   "source": [
    "# Load datasets"
   ]
  },
  {
   "cell_type": "markdown",
   "metadata": {},
   "source": [
    "### Load EEGBCI data"
   ]
  },
  {
   "cell_type": "code",
   "execution_count": 2,
   "metadata": {},
   "outputs": [],
   "source": [
    "with open(\"../data/eeg_datasets.pkl\", \"rb\") as f:\n",
    "    eeg_datasets_dict = pickle.load(f)\n",
    "    \n",
    "eeg_datasets = eeg_datasets_dict[\"datasets_mne_format\"]\n",
    "\n",
    "# original_bci = eeg_datasets_dict[\"datasets_mne_format\"][0]\n",
    "# original_bci_channel_names = original_bci.ch_names\n",
    "# original_bci_data, original_bci_times = original_bci[:]\n",
    "# original_bci_data_df = pd.DataFrame(original_bci_data.T, columns=original_bci_channel_names)\n",
    "# original_bci_data_df.head(5)"
   ]
  },
  {
   "cell_type": "markdown",
   "metadata": {},
   "source": [
    "### Load PhysioNet dataset"
   ]
  },
  {
   "cell_type": "code",
   "execution_count": 3,
   "metadata": {},
   "outputs": [],
   "source": [
    "# TODO"
   ]
  },
  {
   "cell_type": "markdown",
   "metadata": {},
   "source": [
    "# Add artificial noise"
   ]
  },
  {
   "cell_type": "code",
   "execution_count": 4,
   "metadata": {},
   "outputs": [
    {
     "name": "stdout",
     "output_type": "stream",
     "text": [
      "Adding noise to 64/64 channels (64 channels in cov)\n"
     ]
    },
    {
     "name": "stderr",
     "output_type": "stream",
     "text": [
      "C:\\Users\\windo\\AppData\\Local\\Temp\\ipykernel_17828\\3481485689.py:7: RuntimeWarning: No average EEG reference present in info[\"projs\"], covariance may be adversely affected. Consider recomputing covariance using with an average eeg reference projector added.\n",
      "  add_noise(noisy, cov, random_state=14)\n"
     ]
    }
   ],
   "source": [
    "datasets_artificial_noise = []\n",
    "\n",
    "for dataset in eeg_datasets:\n",
    "    cov = make_ad_hoc_cov(dataset.info)\n",
    "    noisy = dataset.copy()\n",
    "    cov['data'] *= 100.0\n",
    "    add_noise(noisy, cov, random_state=14)\n",
    "    datasets_artificial_noise.append(noisy)\n",
    "\n",
    "# datasets_artificial_noise[0]\n",
    "    "
   ]
  },
  {
   "cell_type": "code",
   "execution_count": null,
   "metadata": {},
   "outputs": [
    {
     "data": {
      "text/plain": [
       "(64, 60000)"
      ]
     },
     "execution_count": 7,
     "metadata": {},
     "output_type": "execute_result"
    }
   ],
   "source": [
    "# noisy_data, _ = noisy[:]\n",
    "# noisy_data.shape\n",
    "# noisy_data_df = pd.DataFrame(noisy_data.T, columns=noisy.ch_names)\n",
    "# noisy_data_df.head(5)"
   ]
  },
  {
   "cell_type": "code",
   "execution_count": 30,
   "metadata": {},
   "outputs": [],
   "source": [
    "# Second approach\n",
    "# sigma = 0.05 # Noise variance\n",
    "# noisy_signal = signal + sigma * np.random.randn(signal.size)\n",
    "# or\n",
    "# noisy_data = data + np.random.normal(0, 0.1, size=data.shape)"
   ]
  },
  {
   "cell_type": "markdown",
   "metadata": {},
   "source": [
    "# Save data to pkl"
   ]
  },
  {
   "cell_type": "code",
   "execution_count": 25,
   "metadata": {},
   "outputs": [],
   "source": [
    "with open(\"../data/eeg_datasets.pkl\", \"wb\") as f:\n",
    "    pickle.dump({\"datasets_mne_format\": eeg_datasets, \"datasets_artnoise_mne_format\": datasets_artificial_noise}, f)"
   ]
  }
 ],
 "metadata": {
  "kernelspec": {
   "display_name": "eeg-denoising",
   "language": "python",
   "name": "python3"
  },
  "language_info": {
   "codemirror_mode": {
    "name": "ipython",
    "version": 3
   },
   "file_extension": ".py",
   "mimetype": "text/x-python",
   "name": "python",
   "nbconvert_exporter": "python",
   "pygments_lexer": "ipython3",
   "version": "3.13.3"
  }
 },
 "nbformat": 4,
 "nbformat_minor": 2
}
